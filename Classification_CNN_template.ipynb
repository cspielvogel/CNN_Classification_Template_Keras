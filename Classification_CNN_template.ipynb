{
 "cells": [
  {
   "cell_type": "markdown",
   "metadata": {},
   "source": [
    "## Convolutional Neural Network Template\n",
    "\n",
    "Classification ( / Regression) CNN Template"
   ]
  },
  {
   "cell_type": "code",
   "execution_count": 1,
   "metadata": {},
   "outputs": [
    {
     "name": "stderr",
     "output_type": "stream",
     "text": [
      "2022-09-06 17:41:28.826306: I tensorflow/stream_executor/platform/default/dso_loader.cc:49] Successfully opened dynamic library libcudart.so.10.1\n"
     ]
    }
   ],
   "source": [
    "import os\n",
    "#os.environ[\"CUDA_VISIBLE_DEVICES\"] = \"\" # If you want to use TF CPU version while having the GPU version installed\n",
    "\n",
    "import tensorflow as tf\n",
    "from tensorflow.keras import Sequential, layers, regularizers\n",
    "from tensorflow.keras.preprocessing.image import ImageDataGenerator\n",
    "import numpy as np\n",
    "import pandas as pd\n",
    "import plotly.offline as ply\n",
    "import plotly.graph_objs as graphs\n",
    "import math\n",
    "import random\n",
    "import matplotlib.pyplot as plt"
   ]
  },
  {
   "cell_type": "code",
   "execution_count": 2,
   "metadata": {},
   "outputs": [],
   "source": [
    "# Seeding random number generators to obtain reproducible results\n",
    "seed_value = 0\n",
    "os.environ['PYTHONHASHSEED']=str(seed_value)\n",
    "random.seed(seed_value)\n",
    "np.random.seed(seed_value) # Resets itself on every use\n",
    "tf.random.set_seed(seed_value) # tf.set_random_seed(seed_value) on older TF versions"
   ]
  },
  {
   "cell_type": "code",
   "execution_count": 3,
   "metadata": {},
   "outputs": [],
   "source": [
    "def load_data(file_path):\n",
    "    # Load CSV file to pandas data frame\n",
    "    df = pd.read_csv(file_path, header=0)\n",
    "\n",
    "    # Split data frame columns into features and labels\n",
    "    y = df[\"label\"].values\n",
    "    X_flat = df.drop(\"label\", axis=1).values\n",
    "    X = [np.resize(array, (28, 28)) for array in X_flat] # Resize flat vector to 28x28\n",
    "    X = np.array([np.reshape(sample, (sample.shape[0], sample.shape[1], 1)) for sample in X]) # Add color channel\n",
    "    \n",
    "    return X, tf.keras.utils.to_categorical(y) # Labels are returned as one-hot encoded vectors"
   ]
  },
  {
   "cell_type": "code",
   "execution_count": 4,
   "metadata": {},
   "outputs": [],
   "source": [
    "def plot_train_val_performances(performances, metric=\"Accuracy\", show=True):\n",
    "    \"\"\"Plot training vs. testing accuracy over all epochs. performances is a dictionary mapping epoch numbers\n",
    "       as integers to lists containing training and validation performance (e.g. accuracy).\n",
    "       metric is a string indicating the used performance metric.\"\"\"\n",
    "    x = list(performances.keys())     # Number of epochs\n",
    "    y_train = [i[0] for i in performances.values()]\n",
    "    y_val = [i[1] for i in performances.values()]\n",
    "\n",
    "    trace_train = graphs.Scatter(x=x, y=y_train, name=\"Training\", mode=\"lines+markers\",\n",
    "                                 line=dict(width=4),\n",
    "                                 marker=dict(symbol=\"circle\",\n",
    "                                             size=10))\n",
    "    trace_val = graphs.Scatter(x=x, y=y_val, name=\"Validation\", mode=\"lines+markers\",\n",
    "                                line=dict(width=4),\n",
    "                                marker=dict(symbol=\"circle\",\n",
    "                                            size=10))\n",
    "\n",
    "    layout = graphs.Layout(title=\"Training vs. Validation {}\".format(metric),\n",
    "                           xaxis={\"title\": \"Epoch\"},\n",
    "                           yaxis={\"title\": metric})\n",
    "\n",
    "    fig = graphs.Figure(data=[trace_train, trace_val], layout=layout)\n",
    "    ply.plot(fig, filename=\"plotly_train_val_{}.html\".format(metric), auto_open=show)\n",
    "    print(\"Plot saved as plotly_train_val_{}.html\".format(metric))"
   ]
  },
  {
   "cell_type": "code",
   "execution_count": 5,
   "metadata": {},
   "outputs": [],
   "source": [
    "def create_2DCNN_model(input_shape):\n",
    "    \"\"\"Build architecture of the model\"\"\"\n",
    "    model = Sequential()\n",
    "    model.add(layers.Conv2D(32, (3, 3), input_shape=input_shape,\n",
    "                            activation=\"relu\", padding=\"same\"))\n",
    "    model.add(layers.Conv2D(64, (3, 3), activation=\"selu\", padding=\"same\"))\n",
    "    model.add(layers.MaxPooling2D(pool_size=(3, 3)))\n",
    "    model.add(layers.Conv2D(64, (3, 3), activation=\"selu\", padding=\"same\"))\n",
    "    model.add(layers.Conv2D(64, (3, 3), activation=\"selu\", padding=\"same\"))\n",
    "    model.add(layers.MaxPooling2D(pool_size=(2, 2)))\n",
    "    model.add(layers.Conv2D(128, (3, 3), activation=\"selu\", padding=\"same\"))\n",
    "    model.add(layers.MaxPooling2D(pool_size=(2, 2), padding=\"same\"))\n",
    "    model.add(layers.Flatten())\n",
    "    model.add(layers.Dense(64, activation=\"selu\"))\n",
    "    model.add(layers.Dropout(0.2))\n",
    "    model.add(layers.Dense(32, activation=\"selu\"))\n",
    "    model.add(layers.Dense(10, activation=\"softmax\"))\n",
    "\n",
    "    # Create model\n",
    "    model.compile(optimizer=tf.keras.optimizers.Adam(),\n",
    "                  loss=\"categorical_crossentropy\",\n",
    "                  metrics=[\"accuracy\"])\n",
    "\n",
    "    return model"
   ]
  },
  {
   "cell_type": "code",
   "execution_count": 6,
   "metadata": {},
   "outputs": [],
   "source": [
    "# Specify data location\n",
    "data_dir = r\"Jupyter-notebooks_Convolutional_Neural_Networks/Data/mnist.csv\"\n",
    "\n",
    "# Set hyperparameters\n",
    "num_epochs = 200\n",
    "batch_size = 64\n",
    "dims = (28, 28, 1)"
   ]
  },
  {
   "cell_type": "code",
   "execution_count": 7,
   "metadata": {},
   "outputs": [],
   "source": [
    "# Load data\n",
    "X, y = load_data(data_dir)\n",
    "\n",
    "# Determine split sizes\n",
    "train_size = math.floor(0.02 * len(y)) # ONLY 2 % of the data set is used for training\n",
    "val_size = math.floor(0.475 * len(y))\n",
    "test_size = math.floor(0.475 * len(y))\n",
    "\n",
    "# Create splitted sets\n",
    "X_train, y_train = X[:train_size], y[:train_size]\n",
    "X_val, y_val = X[train_size:train_size+val_size], y[train_size:train_size+val_size]\n",
    "X_test, y_test = X[train_size+val_size:], y[train_size+val_size:]"
   ]
  },
  {
   "cell_type": "code",
   "execution_count": 8,
   "metadata": {},
   "outputs": [
    {
     "name": "stderr",
     "output_type": "stream",
     "text": [
      "2022-09-06 17:41:30.703251: I tensorflow/compiler/jit/xla_cpu_device.cc:41] Not creating XLA devices, tf_xla_enable_xla_devices not set\n",
      "2022-09-06 17:41:30.704055: I tensorflow/stream_executor/platform/default/dso_loader.cc:49] Successfully opened dynamic library libcuda.so.1\n",
      "2022-09-06 17:41:30.772995: I tensorflow/core/common_runtime/gpu/gpu_device.cc:1720] Found device 0 with properties: \n",
      "pciBusID: 0000:0a:00.0 name: NVIDIA GeForce RTX 2080 Ti computeCapability: 7.5\n",
      "coreClock: 1.545GHz coreCount: 68 deviceMemorySize: 10.76GiB deviceMemoryBandwidth: 573.69GiB/s\n",
      "2022-09-06 17:41:30.773060: I tensorflow/stream_executor/cuda/cuda_gpu_executor.cc:941] successful NUMA node read from SysFS had negative value (-1), but there must be at least one NUMA node, so returning NUMA node zero\n",
      "2022-09-06 17:41:30.773658: I tensorflow/core/common_runtime/gpu/gpu_device.cc:1720] Found device 1 with properties: \n",
      "pciBusID: 0000:42:00.0 name: NVIDIA GeForce RTX 2080 Ti computeCapability: 7.5\n",
      "coreClock: 1.545GHz coreCount: 68 deviceMemorySize: 10.76GiB deviceMemoryBandwidth: 573.69GiB/s\n",
      "2022-09-06 17:41:30.773672: I tensorflow/stream_executor/platform/default/dso_loader.cc:49] Successfully opened dynamic library libcudart.so.10.1\n",
      "2022-09-06 17:41:30.774792: I tensorflow/stream_executor/platform/default/dso_loader.cc:49] Successfully opened dynamic library libcublas.so.10\n",
      "2022-09-06 17:41:30.774821: I tensorflow/stream_executor/platform/default/dso_loader.cc:49] Successfully opened dynamic library libcublasLt.so.10\n",
      "2022-09-06 17:41:30.776017: I tensorflow/stream_executor/platform/default/dso_loader.cc:49] Successfully opened dynamic library libcufft.so.10\n",
      "2022-09-06 17:41:30.776181: I tensorflow/stream_executor/platform/default/dso_loader.cc:49] Successfully opened dynamic library libcurand.so.10\n",
      "2022-09-06 17:41:30.777161: I tensorflow/stream_executor/platform/default/dso_loader.cc:49] Successfully opened dynamic library libcusolver.so.10\n",
      "2022-09-06 17:41:30.777601: I tensorflow/stream_executor/platform/default/dso_loader.cc:49] Successfully opened dynamic library libcusparse.so.10\n",
      "2022-09-06 17:41:30.779682: I tensorflow/stream_executor/platform/default/dso_loader.cc:49] Successfully opened dynamic library libcudnn.so.7\n",
      "2022-09-06 17:41:30.780542: I tensorflow/stream_executor/cuda/cuda_gpu_executor.cc:941] successful NUMA node read from SysFS had negative value (-1), but there must be at least one NUMA node, so returning NUMA node zero\n",
      "2022-09-06 17:41:30.781896: I tensorflow/stream_executor/cuda/cuda_gpu_executor.cc:941] successful NUMA node read from SysFS had negative value (-1), but there must be at least one NUMA node, so returning NUMA node zero\n",
      "2022-09-06 17:41:30.782480: I tensorflow/core/common_runtime/gpu/gpu_device.cc:1862] Adding visible gpu devices: 0, 1\n",
      "2022-09-06 17:41:30.782905: I tensorflow/core/platform/cpu_feature_guard.cc:142] This TensorFlow binary is optimized with oneAPI Deep Neural Network Library (oneDNN) to use the following CPU instructions in performance-critical operations:  SSE4.1 SSE4.2 AVX AVX2 FMA\n",
      "To enable them in other operations, rebuild TensorFlow with the appropriate compiler flags.\n",
      "2022-09-06 17:41:30.950155: I tensorflow/core/common_runtime/gpu/gpu_device.cc:1720] Found device 0 with properties: \n",
      "pciBusID: 0000:0a:00.0 name: NVIDIA GeForce RTX 2080 Ti computeCapability: 7.5\n",
      "coreClock: 1.545GHz coreCount: 68 deviceMemorySize: 10.76GiB deviceMemoryBandwidth: 573.69GiB/s\n",
      "2022-09-06 17:41:30.950220: I tensorflow/stream_executor/cuda/cuda_gpu_executor.cc:941] successful NUMA node read from SysFS had negative value (-1), but there must be at least one NUMA node, so returning NUMA node zero\n",
      "2022-09-06 17:41:30.950819: I tensorflow/core/common_runtime/gpu/gpu_device.cc:1720] Found device 1 with properties: \n",
      "pciBusID: 0000:42:00.0 name: NVIDIA GeForce RTX 2080 Ti computeCapability: 7.5\n",
      "coreClock: 1.545GHz coreCount: 68 deviceMemorySize: 10.76GiB deviceMemoryBandwidth: 573.69GiB/s\n",
      "2022-09-06 17:41:30.950843: I tensorflow/stream_executor/platform/default/dso_loader.cc:49] Successfully opened dynamic library libcudart.so.10.1\n",
      "2022-09-06 17:41:30.950870: I tensorflow/stream_executor/platform/default/dso_loader.cc:49] Successfully opened dynamic library libcublas.so.10\n",
      "2022-09-06 17:41:30.950882: I tensorflow/stream_executor/platform/default/dso_loader.cc:49] Successfully opened dynamic library libcublasLt.so.10\n",
      "2022-09-06 17:41:30.950891: I tensorflow/stream_executor/platform/default/dso_loader.cc:49] Successfully opened dynamic library libcufft.so.10\n",
      "2022-09-06 17:41:30.950899: I tensorflow/stream_executor/platform/default/dso_loader.cc:49] Successfully opened dynamic library libcurand.so.10\n",
      "2022-09-06 17:41:30.950908: I tensorflow/stream_executor/platform/default/dso_loader.cc:49] Successfully opened dynamic library libcusolver.so.10\n",
      "2022-09-06 17:41:30.950916: I tensorflow/stream_executor/platform/default/dso_loader.cc:49] Successfully opened dynamic library libcusparse.so.10\n",
      "2022-09-06 17:41:30.950924: I tensorflow/stream_executor/platform/default/dso_loader.cc:49] Successfully opened dynamic library libcudnn.so.7\n",
      "2022-09-06 17:41:30.951594: I tensorflow/stream_executor/cuda/cuda_gpu_executor.cc:941] successful NUMA node read from SysFS had negative value (-1), but there must be at least one NUMA node, so returning NUMA node zero\n",
      "2022-09-06 17:41:30.952769: I tensorflow/stream_executor/cuda/cuda_gpu_executor.cc:941] successful NUMA node read from SysFS had negative value (-1), but there must be at least one NUMA node, so returning NUMA node zero\n",
      "2022-09-06 17:41:30.953315: I tensorflow/core/common_runtime/gpu/gpu_device.cc:1862] Adding visible gpu devices: 0, 1\n",
      "2022-09-06 17:41:30.953343: I tensorflow/stream_executor/platform/default/dso_loader.cc:49] Successfully opened dynamic library libcudart.so.10.1\n",
      "2022-09-06 17:41:31.588609: I tensorflow/core/common_runtime/gpu/gpu_device.cc:1261] Device interconnect StreamExecutor with strength 1 edge matrix:\n",
      "2022-09-06 17:41:31.588650: I tensorflow/core/common_runtime/gpu/gpu_device.cc:1267]      0 1 \n",
      "2022-09-06 17:41:31.588656: I tensorflow/core/common_runtime/gpu/gpu_device.cc:1280] 0:   N N \n",
      "2022-09-06 17:41:31.588659: I tensorflow/core/common_runtime/gpu/gpu_device.cc:1280] 1:   N N \n",
      "2022-09-06 17:41:31.589575: I tensorflow/stream_executor/cuda/cuda_gpu_executor.cc:941] successful NUMA node read from SysFS had negative value (-1), but there must be at least one NUMA node, so returning NUMA node zero\n",
      "2022-09-06 17:41:31.591310: I tensorflow/core/common_runtime/gpu/gpu_device.cc:1406] Created TensorFlow device (/job:localhost/replica:0/task:0/device:GPU:0 with 10075 MB memory) -> physical GPU (device: 0, name: NVIDIA GeForce RTX 2080 Ti, pci bus id: 0000:0a:00.0, compute capability: 7.5)\n",
      "2022-09-06 17:41:31.591640: I tensorflow/stream_executor/cuda/cuda_gpu_executor.cc:941] successful NUMA node read from SysFS had negative value (-1), but there must be at least one NUMA node, so returning NUMA node zero\n",
      "2022-09-06 17:41:31.592228: I tensorflow/stream_executor/cuda/cuda_gpu_executor.cc:941] successful NUMA node read from SysFS had negative value (-1), but there must be at least one NUMA node, so returning NUMA node zero\n",
      "2022-09-06 17:41:31.592772: I tensorflow/core/common_runtime/gpu/gpu_device.cc:1406] Created TensorFlow device (/job:localhost/replica:0/task:0/device:GPU:1 with 9818 MB memory) -> physical GPU (device: 1, name: NVIDIA GeForce RTX 2080 Ti, pci bus id: 0000:42:00.0, compute capability: 7.5)\n",
      "2022-09-06 17:41:31.593088: I tensorflow/compiler/jit/xla_gpu_device.cc:99] Not creating XLA devices, tf_xla_enable_xla_devices not set\n"
     ]
    }
   ],
   "source": [
    "# Create CNN model\n",
    "model = create_2DCNN_model(dims)"
   ]
  },
  {
   "cell_type": "code",
   "execution_count": 9,
   "metadata": {},
   "outputs": [],
   "source": [
    "# Data augmentation using Keras' built-in data generator\n",
    "train_generator = ImageDataGenerator(rotation_range=15,\n",
    "                                     zoom_range = 0.1,\n",
    "                                     width_shift_range=2,\n",
    "                                     height_shift_range=2)"
   ]
  },
  {
   "cell_type": "code",
   "execution_count": 10,
   "metadata": {},
   "outputs": [],
   "source": [
    "# Configure stopping criterion via early stopping\n",
    "callback = tf.keras.callbacks.EarlyStopping(monitor=\"val_loss\", \n",
    "                                            patience=10, \n",
    "                                            mode=\"min\",\n",
    "                                            restore_best_weights=True)"
   ]
  },
  {
   "cell_type": "code",
   "execution_count": 11,
   "metadata": {
    "tags": []
   },
   "outputs": [
    {
     "name": "stderr",
     "output_type": "stream",
     "text": [
      "/home/cspielvogel/anaconda3/envs/tensorflow2/lib/python3.9/site-packages/tensorflow/python/keras/engine/training.py:1844: UserWarning:\n",
      "\n",
      "`Model.fit_generator` is deprecated and will be removed in a future version. Please use `Model.fit`, which supports generators.\n",
      "\n",
      "2022-09-06 17:41:31.912623: I tensorflow/compiler/mlir/mlir_graph_optimization_pass.cc:116] None of the MLIR optimization passes are enabled (registered 2)\n",
      "2022-09-06 17:41:31.913279: I tensorflow/core/platform/profile_utils/cpu_utils.cc:112] CPU Frequency: 3499610000 Hz\n"
     ]
    },
    {
     "name": "stdout",
     "output_type": "stream",
     "text": [
      "Epoch 1/200\n"
     ]
    },
    {
     "name": "stderr",
     "output_type": "stream",
     "text": [
      "2022-09-06 17:41:32.335746: I tensorflow/stream_executor/platform/default/dso_loader.cc:49] Successfully opened dynamic library libcublas.so.10\n",
      "2022-09-06 17:41:32.496924: I tensorflow/stream_executor/platform/default/dso_loader.cc:49] Successfully opened dynamic library libcudnn.so.7\n",
      "2022-09-06 17:41:33.284325: W tensorflow/stream_executor/gpu/asm_compiler.cc:63] Running ptxas --version returned 256\n",
      "2022-09-06 17:41:33.327091: W tensorflow/stream_executor/gpu/redzone_allocator.cc:314] Internal: ptxas exited with non-zero error code 256, output: \n",
      "Relying on driver to perform ptx compilation. \n",
      "Modify $PATH to customize ptxas location.\n",
      "This message will be only logged once.\n"
     ]
    },
    {
     "name": "stdout",
     "output_type": "stream",
     "text": [
      "7/7 [==============================] - 16s 1s/step - loss: 9.5544 - accuracy: 0.1663 - val_loss: 2.8335 - val_accuracy: 0.1743\n",
      "Epoch 2/200\n",
      "7/7 [==============================] - 0s 47ms/step - loss: 3.0903 - accuracy: 0.1775 - val_loss: 2.1142 - val_accuracy: 0.3118\n",
      "Epoch 3/200\n",
      "7/7 [==============================] - 0s 48ms/step - loss: 1.9727 - accuracy: 0.3487 - val_loss: 1.4398 - val_accuracy: 0.5242\n",
      "Epoch 4/200\n",
      "7/7 [==============================] - 0s 46ms/step - loss: 1.6385 - accuracy: 0.4361 - val_loss: 1.3321 - val_accuracy: 0.6168\n",
      "Epoch 5/200\n",
      "7/7 [==============================] - 0s 47ms/step - loss: 1.1362 - accuracy: 0.6438 - val_loss: 0.9101 - val_accuracy: 0.6931\n",
      "Epoch 6/200\n",
      "7/7 [==============================] - 0s 47ms/step - loss: 0.9489 - accuracy: 0.7040 - val_loss: 0.7020 - val_accuracy: 0.7661\n",
      "Epoch 7/200\n",
      "7/7 [==============================] - 0s 45ms/step - loss: 0.7961 - accuracy: 0.7525 - val_loss: 0.6881 - val_accuracy: 0.7691\n",
      "Epoch 8/200\n",
      "7/7 [==============================] - 0s 47ms/step - loss: 0.6950 - accuracy: 0.7709 - val_loss: 0.6829 - val_accuracy: 0.7640\n",
      "Epoch 9/200\n",
      "7/7 [==============================] - 0s 45ms/step - loss: 0.6537 - accuracy: 0.7793 - val_loss: 0.6483 - val_accuracy: 0.7783\n",
      "Epoch 10/200\n",
      "7/7 [==============================] - 0s 46ms/step - loss: 0.5635 - accuracy: 0.7913 - val_loss: 0.6220 - val_accuracy: 0.7943\n",
      "Epoch 11/200\n",
      "7/7 [==============================] - 0s 44ms/step - loss: 0.5940 - accuracy: 0.8102 - val_loss: 0.5954 - val_accuracy: 0.8118\n",
      "Epoch 12/200\n",
      "7/7 [==============================] - 0s 45ms/step - loss: 0.4783 - accuracy: 0.8395 - val_loss: 0.5550 - val_accuracy: 0.8114\n",
      "Epoch 13/200\n",
      "7/7 [==============================] - 0s 44ms/step - loss: 0.4387 - accuracy: 0.8119 - val_loss: 0.4315 - val_accuracy: 0.8672\n",
      "Epoch 14/200\n",
      "7/7 [==============================] - 0s 46ms/step - loss: 0.3993 - accuracy: 0.8819 - val_loss: 0.4443 - val_accuracy: 0.8646\n",
      "Epoch 15/200\n",
      "7/7 [==============================] - 0s 45ms/step - loss: 0.3407 - accuracy: 0.8405 - val_loss: 0.5396 - val_accuracy: 0.8478\n",
      "Epoch 16/200\n",
      "7/7 [==============================] - 0s 46ms/step - loss: 0.3055 - accuracy: 0.8925 - val_loss: 0.5163 - val_accuracy: 0.8427\n",
      "Epoch 17/200\n",
      "7/7 [==============================] - 0s 46ms/step - loss: 0.2360 - accuracy: 0.8985 - val_loss: 0.4240 - val_accuracy: 0.8806\n",
      "Epoch 18/200\n",
      "7/7 [==============================] - 0s 44ms/step - loss: 0.2675 - accuracy: 0.9236 - val_loss: 0.3270 - val_accuracy: 0.9008\n",
      "Epoch 19/200\n",
      "7/7 [==============================] - 0s 45ms/step - loss: 0.2577 - accuracy: 0.9116 - val_loss: 0.3943 - val_accuracy: 0.8785\n",
      "Epoch 20/200\n",
      "7/7 [==============================] - 0s 46ms/step - loss: 0.2363 - accuracy: 0.8993 - val_loss: 0.4205 - val_accuracy: 0.8743\n",
      "Epoch 21/200\n",
      "7/7 [==============================] - 0s 47ms/step - loss: 0.2241 - accuracy: 0.9230 - val_loss: 0.3233 - val_accuracy: 0.9135\n",
      "Epoch 22/200\n",
      "7/7 [==============================] - 0s 46ms/step - loss: 0.1562 - accuracy: 0.9474 - val_loss: 0.3497 - val_accuracy: 0.8981\n",
      "Epoch 23/200\n",
      "7/7 [==============================] - 0s 46ms/step - loss: 0.1443 - accuracy: 0.9693 - val_loss: 0.3194 - val_accuracy: 0.9097\n",
      "Epoch 24/200\n",
      "7/7 [==============================] - 0s 46ms/step - loss: 0.1995 - accuracy: 0.9390 - val_loss: 0.3460 - val_accuracy: 0.9053\n",
      "Epoch 25/200\n",
      "7/7 [==============================] - 0s 45ms/step - loss: 0.2753 - accuracy: 0.8937 - val_loss: 0.3444 - val_accuracy: 0.8941\n",
      "Epoch 26/200\n",
      "7/7 [==============================] - 0s 45ms/step - loss: 0.1196 - accuracy: 0.9690 - val_loss: 0.4174 - val_accuracy: 0.8771\n",
      "Epoch 27/200\n",
      "7/7 [==============================] - 0s 45ms/step - loss: 0.1543 - accuracy: 0.9463 - val_loss: 0.3475 - val_accuracy: 0.8994\n",
      "Epoch 28/200\n",
      "7/7 [==============================] - 0s 45ms/step - loss: 0.2499 - accuracy: 0.9350 - val_loss: 0.3241 - val_accuracy: 0.9080\n",
      "Epoch 29/200\n",
      "7/7 [==============================] - 0s 44ms/step - loss: 0.1373 - accuracy: 0.9446 - val_loss: 0.3212 - val_accuracy: 0.9023\n",
      "Epoch 30/200\n",
      "7/7 [==============================] - 0s 46ms/step - loss: 0.1297 - accuracy: 0.9558 - val_loss: 0.3131 - val_accuracy: 0.9109\n",
      "Epoch 31/200\n",
      "7/7 [==============================] - 0s 47ms/step - loss: 0.1314 - accuracy: 0.9398 - val_loss: 0.3150 - val_accuracy: 0.9181\n",
      "Epoch 32/200\n",
      "7/7 [==============================] - 0s 46ms/step - loss: 0.1434 - accuracy: 0.9651 - val_loss: 0.4221 - val_accuracy: 0.8842\n",
      "Epoch 33/200\n",
      "7/7 [==============================] - 0s 46ms/step - loss: 0.0846 - accuracy: 0.9732 - val_loss: 0.3998 - val_accuracy: 0.9013\n",
      "Epoch 34/200\n",
      "7/7 [==============================] - 0s 46ms/step - loss: 0.0455 - accuracy: 0.9783 - val_loss: 0.3322 - val_accuracy: 0.9072\n",
      "Epoch 35/200\n",
      "7/7 [==============================] - 0s 47ms/step - loss: 0.1108 - accuracy: 0.9466 - val_loss: 0.3577 - val_accuracy: 0.9133\n",
      "Epoch 36/200\n",
      "7/7 [==============================] - 0s 47ms/step - loss: 0.0875 - accuracy: 0.9691 - val_loss: 0.4907 - val_accuracy: 0.8838\n",
      "Epoch 37/200\n",
      "7/7 [==============================] - 0s 47ms/step - loss: 0.0407 - accuracy: 0.9875 - val_loss: 0.3649 - val_accuracy: 0.9124\n",
      "Epoch 38/200\n",
      "7/7 [==============================] - 0s 48ms/step - loss: 0.1037 - accuracy: 0.9657 - val_loss: 0.3181 - val_accuracy: 0.9173\n",
      "Epoch 39/200\n",
      "7/7 [==============================] - 0s 44ms/step - loss: 0.0301 - accuracy: 0.9936 - val_loss: 0.4035 - val_accuracy: 0.9023\n",
      "Epoch 40/200\n",
      "7/7 [==============================] - 0s 46ms/step - loss: 0.0341 - accuracy: 0.9929 - val_loss: 0.3598 - val_accuracy: 0.9093\n"
     ]
    }
   ],
   "source": [
    "# Training model while dynamically retrieving the augmented data from the generator\n",
    "train_summary = model.fit_generator(generator=train_generator.flow(X_train, y_train, batch_size=32),\n",
    "                                    validation_data=(X_val, y_val),\n",
    "                                    epochs=num_epochs,\n",
    "                                    callbacks=[callback],\n",
    "                                    verbose=1)"
   ]
  },
  {
   "cell_type": "code",
   "execution_count": 12,
   "metadata": {},
   "outputs": [
    {
     "name": "stdout",
     "output_type": "stream",
     "text": [
      "158/158 [==============================] - 3s 17ms/step - loss: 0.2219 - accuracy: 0.9319\n",
      "\n",
      "Test ACC: 0.932\n"
     ]
    }
   ],
   "source": [
    "# Evaluate fitted model using test data\n",
    "test_loss, test_acc = model.evaluate(X_test, y_test, verbose=1)\n",
    "print(\"\\nTest ACC:\", round(test_acc, 3))"
   ]
  },
  {
   "cell_type": "code",
   "execution_count": 13,
   "metadata": {},
   "outputs": [
    {
     "name": "stdout",
     "output_type": "stream",
     "text": [
      "Plot saved as plotly_train_val_Accuracy.html\n"
     ]
    }
   ],
   "source": [
    "# Get epochwise performances\n",
    "train_acc = train_summary.history[\"accuracy\"]\n",
    "val_acc = train_summary.history[\"val_accuracy\"]\n",
    "\n",
    "# Format and store performances per epoch for plotting\n",
    "accs = {epoch: [round(performance[0], 2), round(performance[1], 2)]\n",
    "        for epoch, performance in enumerate(zip(train_acc, val_acc))}\n",
    "\n",
    "# Save model\n",
    "model.save_weights(\"model_weights.h5\")\n",
    "\n",
    "# Plot training and validation performance over epochs\n",
    "plot_train_val_performances(accs, \"Accuracy\")"
   ]
  }
 ],
 "metadata": {
  "kernelspec": {
   "display_name": "Python 3 (ipykernel)",
   "language": "python",
   "name": "python3"
  },
  "language_info": {
   "codemirror_mode": {
    "name": "ipython",
    "version": 3
   },
   "file_extension": ".py",
   "mimetype": "text/x-python",
   "name": "python",
   "nbconvert_exporter": "python",
   "pygments_lexer": "ipython3",
   "version": "3.9.5"
  }
 },
 "nbformat": 4,
 "nbformat_minor": 4
}
